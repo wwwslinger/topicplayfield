{
 "metadata": {
  "name": "Obtaining the corpus"
 },
 "nbformat": 3,
 "nbformat_minor": 0,
 "worksheets": [
  {
   "cells": [
    {
     "cell_type": "code",
     "collapsed": false,
     "input": [
      "from IPython.core.display import HTML\n",
      "def css_styling():\n",
      "    styles = open(\"./custom.css\", \"r\").read()\n",
      "    return HTML(styles)\n",
      "css_styling()\n"
     ],
     "language": "python",
     "metadata": {},
     "outputs": [
      {
       "html": [
        "<style>\n",
        "    @font-face {\n",
        "        font-family: \"Computer Modern\";\n",
        "        src: url('http://mirrors.ctan.org/fonts/cm-unicode/fonts/otf/cmunss.otf');\n",
        "    }\n",
        "    div.cell{\n",
        "        width:800px;\n",
        "        margin-left:auto;\n",
        "        margin-right:auto;\n",
        "    }\n",
        "    h1 {\n",
        "        font-family: \"Charis SIL\", Palatino, serif;\n",
        "    }\n",
        "    h4{\n",
        "        margin-top:12px;\n",
        "        margin-bottom: 3px;\n",
        "       }\n",
        "    div.text_cell_render{\n",
        "        font-family: Computer Modern, \"Helvetica Neue\", Arial, Helvetica, Geneva, sans-serif;\n",
        "        line-height: 145%;\n",
        "        font-size: 120%;\n",
        "        width:800px;\n",
        "        margin-left:auto;\n",
        "        margin-right:auto;\n",
        "    }\n",
        "    .CodeMirror{\n",
        "            font-family: \"Source Code Pro\", source-code-pro,Consolas, monospace;\n",
        "    }\n",
        "    .prompt{\n",
        "        display: None;\n",
        "    }\n",
        "    .text_cell_render h5 {\n",
        "        font-weight: 300;\n",
        "        font-size: 16pt;\n",
        "        color: #4057A1;\n",
        "        font-style: italic;\n",
        "        margin-bottom: .5em;\n",
        "        margin-top: 0.5em;\n",
        "        display: block;\n",
        "    }\n",
        "    \n",
        "    .warning{\n",
        "        color: rgb( 240, 20, 20 )\n",
        "        }\n",
        "</style>\n",
        "<script>\n",
        "    MathJax.Hub.Config({\n",
        "                        TeX: {\n",
        "                           extensions: [\"AMSmath.js\"]\n",
        "                           },\n",
        "                tex2jax: {\n",
        "                    inlineMath: [ ['$','$'], [\"\\\\(\",\"\\\\)\"] ],\n",
        "                    displayMath: [ ['$$','$$'], [\"\\\\[\",\"\\\\]\"] ]\n",
        "                },\n",
        "                displayAlign: 'center', // Change this to 'center' to center equations.\n",
        "                \"HTML-CSS\": {\n",
        "                    styles: {'.MathJax_Display': {\"margin\": 4}}\n",
        "                }\n",
        "        });\n",
        "</script>"
       ],
       "output_type": "pyout",
       "prompt_number": 2,
       "text": [
        "<IPython.core.display.HTML at 0x2bbe7d0>"
       ]
      }
     ],
     "prompt_number": 2
    },
    {
     "cell_type": "heading",
     "level": 1,
     "metadata": {},
     "source": [
      "Obtaining the corpus"
     ]
    },
    {
     "cell_type": "markdown",
     "metadata": {},
     "source": [
      "We'll process a corpus of abstracts of scientific papers obtained from the Machine Learning section of [arXiv.org](http://arXiv.org). We'll crawl the papers by following the URL pattern:\n",
      "\n",
      "    \"http://arXiv.org/abs/{day}{month}.{idnumber}\"\n",
      "\n",
      "where the idnumber is a sequential number from 0001 to the number of articles received that day."
     ]
    },
    {
     "cell_type": "code",
     "collapsed": false,
     "input": [
      "from bs4 import BeautifulStoneSoup\n",
      "import requests\n",
      "baseurl = \"http://arXiv.org/abs/{date}.{idnumber}\"\n"
     ],
     "language": "python",
     "metadata": {},
     "outputs": [],
     "prompt_number": 7
    },
    {
     "cell_type": "code",
     "collapsed": false,
     "input": [
      "def fourDigits(k):\n",
      "    \"\"\"Return a string with a four digit integer from a integer\"\"\"\n",
      "    string = str(k)\n",
      "    return (4 - len(string))*'0' + string\n",
      "\n",
      "def buildURL(k, date = '1303'):\n",
      "    return baseurl.format(date = date, idnumber = fourDigits(k))\n",
      "\n",
      "print fourDigits(1), fourDigits(95), fourDigits(2039), fourDigits(203)\n",
      "print buildURL(1) , buildURL(12), buildURL(192), buildURL(1238)"
     ],
     "language": "python",
     "metadata": {},
     "outputs": [
      {
       "output_type": "stream",
       "stream": "stdout",
       "text": [
        "0001 0095 2039 0203\n",
        "http://arXiv.org/abs/1303.0001 http://arXiv.org/abs/1303.0012 http://arXiv.org/abs/1303.0192 http://arXiv.org/abs/1303.1238\n"
       ]
      }
     ],
     "prompt_number": 8
    },
    {
     "cell_type": "markdown",
     "metadata": {},
     "source": [
      "Fortunately, all arXiv pages have beautiful and easy to get metadata! :)"
     ]
    },
    {
     "cell_type": "code",
     "collapsed": false,
     "input": [
      "parsed = BeautifulSoup.BeautifulStoneSoup(requests.get(buildURL(1)).content)\n",
      "\n",
      "metadata = {}\n",
      "for meta in parsed.findAll('meta'):\n",
      "    name = meta.get('name')\n",
      "    content = meta.get('content')\n",
      "    metadata[name] = metadata.get(name, []) + [content]\n",
      "    \n",
      "abstract = parsed.find('blockquote').getText().replace('\\n', ' ')    "
     ],
     "language": "python",
     "metadata": {},
     "outputs": [],
     "prompt_number": 57
    },
    {
     "cell_type": "code",
     "collapsed": false,
     "input": [
      "metadata"
     ],
     "language": "python",
     "metadata": {},
     "outputs": [
      {
       "output_type": "pyout",
       "prompt_number": 58,
       "text": [
        "{u'citation_arxiv_id': [u'1303.0001'],\n",
        " u'citation_author': [u'Yan, Feng',\n",
        "  u'Martins, Philippe',\n",
        "  u'Decreusefond, Laurent'],\n",
        " u'citation_date': [u'2013/02/28'],\n",
        " u'citation_online_date': [u'2013/02/28'],\n",
        " u'citation_pdf_url': [u'http://arxiv.org/pdf/1303.0001'],\n",
        " u'citation_title': [u'Accuracy of Homology based Coverage Hole Detection for Wireless Sensor Networks on Sphere']}"
       ]
      }
     ],
     "prompt_number": 58
    },
    {
     "cell_type": "code",
     "collapsed": false,
     "input": [],
     "language": "python",
     "metadata": {},
     "outputs": [],
     "prompt_number": 58
    },
    {
     "cell_type": "code",
     "collapsed": false,
     "input": [],
     "language": "python",
     "metadata": {},
     "outputs": []
    }
   ],
   "metadata": {}
  }
 ]
}